{
 "cells": [
  {
   "cell_type": "code",
   "execution_count": null,
   "id": "2616be26",
   "metadata": {},
   "outputs": [],
   "source": [
    "import os\n",
    "import csv\n",
    "import numpy as np \n",
    "import pandas as pd \n",
    "\n",
    "with open(\"ecommerce_sales.csv\", \"r\", encoding=\"utf-8\") as file:\n",
    "    reader = csv.reader(file)  \n",
    "\n",
    "df = pd.read_csv(\"ecommerce_sales.csv\")   \n"
   ]
  },
  {
   "cell_type": "code",
   "execution_count": 59,
   "id": "06158969",
   "metadata": {},
   "outputs": [
    {
     "name": "stdout",
     "output_type": "stream",
     "text": [
      "city\n",
      "Stockholm    1227201.94\n",
      "Göteborg      859019.65\n",
      "Malmö         567926.32\n",
      "Uppsala       551478.42\n",
      "Västerås      297140.90\n",
      "Name: revenue, dtype: float64\n"
     ]
    },
    {
     "name": "stderr",
     "output_type": "stream",
     "text": [
      "C:\\Users\\magda\\AppData\\Local\\Temp\\ipykernel_22516\\1800144635.py:3: FutureWarning: The default of observed=False is deprecated and will be changed to True in a future version of pandas. Pass observed=False to retain current behavior or observed=True to adopt the future default and silence this warning.\n",
      "  revenue_per_city = df.groupby(\"city\")[\"revenue\"].sum()\n"
     ]
    }
   ],
   "source": [
    "# tar ut försäljning per stad, högst försäljning i topp\n",
    "\n",
    "revenue_per_city = df.groupby(\"city\")[\"revenue\"].sum()\n",
    "revenue_per_city = revenue_per_city.sort_values(ascending=False)\n",
    "\n",
    "print(revenue_per_city)"
   ]
  },
  {
   "cell_type": "code",
   "execution_count": 58,
   "id": "805486ae",
   "metadata": {},
   "outputs": [
    {
     "name": "stdout",
     "output_type": "stream",
     "text": [
      "category\n",
      "Electronics    1364228.07\n",
      "Sports          734653.42\n",
      "Clothing        586744.91\n",
      "Name: revenue, dtype: float64\n"
     ]
    }
   ],
   "source": [
    "# tar ut de 3 produkterna med högst försäljningsvärde\n",
    "\n",
    "top_3 = df.groupby(\"category\")[\"revenue\"].sum()\n",
    "top_3 = top_3.sort_values(ascending=False).head(3)\n",
    "print(top_3)\n"
   ]
  }
 ],
 "metadata": {
  "kernelspec": {
   "display_name": ".venv",
   "language": "python",
   "name": "python3"
  },
  "language_info": {
   "codemirror_mode": {
    "name": "ipython",
    "version": 3
   },
   "file_extension": ".py",
   "mimetype": "text/x-python",
   "name": "python",
   "nbconvert_exporter": "python",
   "pygments_lexer": "ipython3",
   "version": "3.13.7"
  }
 },
 "nbformat": 4,
 "nbformat_minor": 5
}

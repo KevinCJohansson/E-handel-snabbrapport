{
 "cells": [
  {
   "cell_type": "code",
   "execution_count": 2,
   "id": "5b7de9c1",
   "metadata": {},
   "outputs": [
    {
     "name": "stdout",
     "output_type": "stream",
     "text": [
      "month\n",
      "2024-01    664083.32\n",
      "2024-02    548462.03\n",
      "2024-03    487602.00\n",
      "2024-04    580194.83\n",
      "2024-05    632165.16\n",
      "2024-06    590259.89\n",
      "Freq: M, Name: revenue, dtype: float64\n"
     ]
    },
    {
     "data": {
      "application/vnd.microsoft.datawrangler.viewer.v0+json": {
       "columns": [
        {
         "name": "month",
         "rawType": "period[M]",
         "type": "unknown"
        },
        {
         "name": "revenue",
         "rawType": "float64",
         "type": "float"
        }
       ],
       "ref": "2d6caa07-2e45-4a68-8ffe-6fe896c7de3a",
       "rows": [
        [
         "2024-01",
         "664083.32"
        ],
        [
         "2024-02",
         "548462.03"
        ],
        [
         "2024-03",
         "487602.0"
        ],
        [
         "2024-04",
         "580194.83"
        ],
        [
         "2024-05",
         "632165.16"
        ],
        [
         "2024-06",
         "590259.89"
        ]
       ],
       "shape": {
        "columns": 1,
        "rows": 6
       }
      },
      "text/plain": [
       "month\n",
       "2024-01    664083.32\n",
       "2024-02    548462.03\n",
       "2024-03    487602.00\n",
       "2024-04    580194.83\n",
       "2024-05    632165.16\n",
       "2024-06    590259.89\n",
       "Freq: M, Name: revenue, dtype: float64"
      ]
     },
     "metadata": {},
     "output_type": "display_data"
    }
   ],
   "source": [
    "import pandas as pd\n",
    "import matplotlib.pyplot as plt\n",
    "\n",
    "df = pd.read_csv(\"../data/ecommerce_sales.csv\", parse_dates=[\"date\"]) # date ska tolkas som datumformat istället för text(string)\n",
    "\n",
    "# en kolumn för månad:\n",
    "df[\"month\"] = df[\"date\"].dt.to_period(\"M\")  # dt står för datum\n",
    "\n",
    "#summerar nu omsättning för en månad:\n",
    "revenue_month = df.groupby(\"month\")[\"revenue\"].sum()\n",
    "\n",
    "print(revenue_month)\n",
    "display(revenue_month)"
   ]
  },
  {
   "cell_type": "code",
   "execution_count": null,
   "id": "499c32cd",
   "metadata": {},
   "outputs": [
    {
     "data": {
      "image/png": "[encoded data removed]",
      "text/plain": [
       "<Figure size 640x480 with 1 Axes>"
      ]
     },
     "metadata": {},
     "output_type": "display_data"
    }
   ],
   "source": [
    "df[\"month\"] = df[\"date\"].dt.to_period(\"M\")\n",
    "sumclass = df.groupby(\"month\")[\"revenue\"].sum().reset_index()\n",
    "\n",
    "fig, ax = plt.subplots()\n",
    "ax.bar(sumclass[\"month\"].astype(str), sumclass[\"revenue\"])      # astype(str) måste finnas för att x -axeln ska funka\n",
    "ax.set_title(\"Intäkt per månad\")\n",
    "ax.set_xlabel(\"Månad\")\n",
    "ax.set_ylabel(\"Intäkt\")\n",
    "ax.grid(True, axis=\"y\")\n",
    "\n",
    "plt.setp(ax.get_xticklabels(), rotation=45) \n",
    "plt.tight_layout()\n",
    "plt.show()"
   ]
  },
  {
   "cell_type": "code",
   "execution_count": 25,
   "id": "7ebb4710",
   "metadata": {},
   "outputs": [
    {
     "name": "stdout",
     "output_type": "stream",
     "text": [
      "                     week    revenue\n",
      "22  2024-06-03/2024-06-09  166384.34\n",
      "3   2024-01-22/2024-01-28  165832.80\n",
      "0   2024-01-01/2024-01-07  161119.04\n",
      "15  2024-04-15/2024-04-21  157775.20\n",
      "20  2024-05-20/2024-05-26  156746.92\n",
      "2   2024-01-15/2024-01-21  147225.11\n",
      "14  2024-04-08/2024-04-14  146409.48\n",
      "21  2024-05-27/2024-06-02  144516.63\n",
      "25  2024-06-24/2024-06-30  142431.78\n",
      "17  2024-04-29/2024-05-05  140330.00\n",
      "18  2024-05-06/2024-05-12  139988.87\n",
      "1   2024-01-08/2024-01-14  136568.68\n",
      "8   2024-02-26/2024-03-03  135071.28\n",
      "24  2024-06-17/2024-06-23  134604.41\n",
      "7   2024-02-19/2024-02-25  130817.18\n",
      "5   2024-02-05/2024-02-11  129235.14\n",
      "9   2024-03-04/2024-03-10  125966.50\n",
      "4   2024-01-29/2024-02-04  124154.34\n",
      "19  2024-05-13/2024-05-19  123365.13\n",
      "16  2024-04-22/2024-04-28  123154.55\n",
      "6   2024-02-12/2024-02-18  120294.76\n",
      "13  2024-04-01/2024-04-07  117292.87\n",
      "12  2024-03-25/2024-03-31  114609.06\n",
      "23  2024-06-10/2024-06-16  109619.70\n",
      "10  2024-03-11/2024-03-17  109400.74\n",
      "11  2024-03-18/2024-03-24   99852.72\n"
     ]
    },
    {
     "data": {
      "application/vnd.microsoft.datawrangler.viewer.v0+json": {
       "columns": [
        {
         "name": "index",
         "rawType": "int64",
         "type": "integer"
        },
        {
         "name": "week",
         "rawType": "period[W-SUN]",
         "type": "unknown"
        },
        {
         "name": "revenue",
         "rawType": "float64",
         "type": "float"
        }
       ],
       "ref": "fd8191bb-2270-4f92-98b3-8557e0fbaf15",
       "rows": [
        [
         "22",
         "2024-06-03/2024-06-09",
         "166384.34"
        ],
        [
         "3",
         "2024-01-22/2024-01-28",
         "165832.8"
        ],
        [
         "0",
         "2024-01-01/2024-01-07",
         "161119.04"
        ],
        [
         "15",
         "2024-04-15/2024-04-21",
         "157775.2"
        ],
        [
         "20",
         "2024-05-20/2024-05-26",
         "156746.92"
        ],
        [
         "2",
         "2024-01-15/2024-01-21",
         "147225.11"
        ],
        [
         "14",
         "2024-04-08/2024-04-14",
         "146409.48"
        ],
        [
         "21",
         "2024-05-27/2024-06-02",
         "144516.63"
        ],
        [
         "25",
         "2024-06-24/2024-06-30",
         "142431.78"
        ],
        [
         "17",
         "2024-04-29/2024-05-05",
         "140330.0"
        ],
        [
         "18",
         "2024-05-06/2024-05-12",
         "139988.87"
        ],
        [
         "1",
         "2024-01-08/2024-01-14",
         "136568.68"
        ],
        [
         "8",
         "2024-02-26/2024-03-03",
         "135071.28"
        ],
        [
         "24",
         "2024-06-17/2024-06-23",
         "134604.41"
        ],
        [
         "7",
         "2024-02-19/2024-02-25",
         "130817.18"
        ],
        [
         "5",
         "2024-02-05/2024-02-11",
         "129235.14"
        ],
        [
         "9",
         "2024-03-04/2024-03-10",
         "125966.5"
        ],
        [
         "4",
         "2024-01-29/2024-02-04",
         "124154.34"
        ],
        [
         "19",
         "2024-05-13/2024-05-19",
         "123365.13"
        ],
        [
         "16",
         "2024-04-22/2024-04-28",
         "123154.55"
        ],
        [
         "6",
         "2024-02-12/2024-02-18",
         "120294.76"
        ],
        [
         "13",
         "2024-04-01/2024-04-07",
         "117292.87"
        ],
        [
         "12",
         "2024-03-25/2024-03-31",
         "114609.06"
        ],
        [
         "23",
         "2024-06-10/2024-06-16",
         "109619.7"
        ],
        [
         "10",
         "2024-03-11/2024-03-17",
         "109400.74"
        ],
        [
         "11",
         "2024-03-18/2024-03-24",
         "99852.72"
        ]
       ],
       "shape": {
        "columns": 2,
        "rows": 26
       }
      },
      "text/html": [
       "<div>\n",
       "<style scoped>\n",
       "    .dataframe tbody tr th:only-of-type {\n",
       "        vertical-align: middle;\n",
       "    }\n",
       "\n",
       "    .dataframe tbody tr th {\n",
       "        vertical-align: top;\n",
       "    }\n",
       "\n",
       "    .dataframe thead th {\n",
       "        text-align: right;\n",
       "    }\n",
       "</style>\n",
       "<table border=\"1\" class=\"dataframe\">\n",
       "  <thead>\n",
       "    <tr style=\"text-align: right;\">\n",
       "      <th></th>\n",
       "      <th>week</th>\n",
       "      <th>revenue</th>\n",
       "    </tr>\n",
       "  </thead>\n",
       "  <tbody>\n",
       "    <tr>\n",
       "      <th>22</th>\n",
       "      <td>2024-06-03/2024-06-09</td>\n",
       "      <td>166384.34</td>\n",
       "    </tr>\n",
       "    <tr>\n",
       "      <th>3</th>\n",
       "      <td>2024-01-22/2024-01-28</td>\n",
       "      <td>165832.80</td>\n",
       "    </tr>\n",
       "    <tr>\n",
       "      <th>0</th>\n",
       "      <td>2024-01-01/2024-01-07</td>\n",
       "      <td>161119.04</td>\n",
       "    </tr>\n",
       "    <tr>\n",
       "      <th>15</th>\n",
       "      <td>2024-04-15/2024-04-21</td>\n",
       "      <td>157775.20</td>\n",
       "    </tr>\n",
       "    <tr>\n",
       "      <th>20</th>\n",
       "      <td>2024-05-20/2024-05-26</td>\n",
       "      <td>156746.92</td>\n",
       "    </tr>\n",
       "    <tr>\n",
       "      <th>2</th>\n",
       "      <td>2024-01-15/2024-01-21</td>\n",
       "      <td>147225.11</td>\n",
       "    </tr>\n",
       "    <tr>\n",
       "      <th>14</th>\n",
       "      <td>2024-04-08/2024-04-14</td>\n",
       "      <td>146409.48</td>\n",
       "    </tr>\n",
       "    <tr>\n",
       "      <th>21</th>\n",
       "      <td>2024-05-27/2024-06-02</td>\n",
       "      <td>144516.63</td>\n",
       "    </tr>\n",
       "    <tr>\n",
       "      <th>25</th>\n",
       "      <td>2024-06-24/2024-06-30</td>\n",
       "      <td>142431.78</td>\n",
       "    </tr>\n",
       "    <tr>\n",
       "      <th>17</th>\n",
       "      <td>2024-04-29/2024-05-05</td>\n",
       "      <td>140330.00</td>\n",
       "    </tr>\n",
       "    <tr>\n",
       "      <th>18</th>\n",
       "      <td>2024-05-06/2024-05-12</td>\n",
       "      <td>139988.87</td>\n",
       "    </tr>\n",
       "    <tr>\n",
       "      <th>1</th>\n",
       "      <td>2024-01-08/2024-01-14</td>\n",
       "      <td>136568.68</td>\n",
       "    </tr>\n",
       "    <tr>\n",
       "      <th>8</th>\n",
       "      <td>2024-02-26/2024-03-03</td>\n",
       "      <td>135071.28</td>\n",
       "    </tr>\n",
       "    <tr>\n",
       "      <th>24</th>\n",
       "      <td>2024-06-17/2024-06-23</td>\n",
       "      <td>134604.41</td>\n",
       "    </tr>\n",
       "    <tr>\n",
       "      <th>7</th>\n",
       "      <td>2024-02-19/2024-02-25</td>\n",
       "      <td>130817.18</td>\n",
       "    </tr>\n",
       "    <tr>\n",
       "      <th>5</th>\n",
       "      <td>2024-02-05/2024-02-11</td>\n",
       "      <td>129235.14</td>\n",
       "    </tr>\n",
       "    <tr>\n",
       "      <th>9</th>\n",
       "      <td>2024-03-04/2024-03-10</td>\n",
       "      <td>125966.50</td>\n",
       "    </tr>\n",
       "    <tr>\n",
       "      <th>4</th>\n",
       "      <td>2024-01-29/2024-02-04</td>\n",
       "      <td>124154.34</td>\n",
       "    </tr>\n",
       "    <tr>\n",
       "      <th>19</th>\n",
       "      <td>2024-05-13/2024-05-19</td>\n",
       "      <td>123365.13</td>\n",
       "    </tr>\n",
       "    <tr>\n",
       "      <th>16</th>\n",
       "      <td>2024-04-22/2024-04-28</td>\n",
       "      <td>123154.55</td>\n",
       "    </tr>\n",
       "    <tr>\n",
       "      <th>6</th>\n",
       "      <td>2024-02-12/2024-02-18</td>\n",
       "      <td>120294.76</td>\n",
       "    </tr>\n",
       "    <tr>\n",
       "      <th>13</th>\n",
       "      <td>2024-04-01/2024-04-07</td>\n",
       "      <td>117292.87</td>\n",
       "    </tr>\n",
       "    <tr>\n",
       "      <th>12</th>\n",
       "      <td>2024-03-25/2024-03-31</td>\n",
       "      <td>114609.06</td>\n",
       "    </tr>\n",
       "    <tr>\n",
       "      <th>23</th>\n",
       "      <td>2024-06-10/2024-06-16</td>\n",
       "      <td>109619.70</td>\n",
       "    </tr>\n",
       "    <tr>\n",
       "      <th>10</th>\n",
       "      <td>2024-03-11/2024-03-17</td>\n",
       "      <td>109400.74</td>\n",
       "    </tr>\n",
       "    <tr>\n",
       "      <th>11</th>\n",
       "      <td>2024-03-18/2024-03-24</td>\n",
       "      <td>99852.72</td>\n",
       "    </tr>\n",
       "  </tbody>\n",
       "</table>\n",
       "</div>"
      ],
      "text/plain": [
       "                     week    revenue\n",
       "22  2024-06-03/2024-06-09  166384.34\n",
       "3   2024-01-22/2024-01-28  165832.80\n",
       "0   2024-01-01/2024-01-07  161119.04\n",
       "15  2024-04-15/2024-04-21  157775.20\n",
       "20  2024-05-20/2024-05-26  156746.92\n",
       "2   2024-01-15/2024-01-21  147225.11\n",
       "14  2024-04-08/2024-04-14  146409.48\n",
       "21  2024-05-27/2024-06-02  144516.63\n",
       "25  2024-06-24/2024-06-30  142431.78\n",
       "17  2024-04-29/2024-05-05  140330.00\n",
       "18  2024-05-06/2024-05-12  139988.87\n",
       "1   2024-01-08/2024-01-14  136568.68\n",
       "8   2024-02-26/2024-03-03  135071.28\n",
       "24  2024-06-17/2024-06-23  134604.41\n",
       "7   2024-02-19/2024-02-25  130817.18\n",
       "5   2024-02-05/2024-02-11  129235.14\n",
       "9   2024-03-04/2024-03-10  125966.50\n",
       "4   2024-01-29/2024-02-04  124154.34\n",
       "19  2024-05-13/2024-05-19  123365.13\n",
       "16  2024-04-22/2024-04-28  123154.55\n",
       "6   2024-02-12/2024-02-18  120294.76\n",
       "13  2024-04-01/2024-04-07  117292.87\n",
       "12  2024-03-25/2024-03-31  114609.06\n",
       "23  2024-06-10/2024-06-16  109619.70\n",
       "10  2024-03-11/2024-03-17  109400.74\n",
       "11  2024-03-18/2024-03-24   99852.72"
      ]
     },
     "metadata": {},
     "output_type": "display_data"
    }
   ],
   "source": [
    "df[\"week\"] = df[\"date\"].dt.to_period(\"W\")\n",
    "revenue_week = df.groupby(\"week\")[\"revenue\"].sum()\n",
    "\n",
    "# Det är störande att veckorna sorteras inte från högsta till lägsta omsättning, så jag testar:\n",
    "sorted_weeks = sumclass.sort_values(by=\"revenue\", ascending= False)\n",
    "\n",
    "print(sorted_weeks)\n",
    "display(sorted_weeks)"
   ]
  },
  {
   "cell_type": "code",
   "execution_count": 20,
   "id": "0ddaa24b",
   "metadata": {},
   "outputs": [
    {
     "data": {
      "image/png": "[encoded data removed]",
      "text/plain": [
       "<Figure size 640x480 with 1 Axes>"
      ]
     },
     "metadata": {},
     "output_type": "display_data"
    }
   ],
   "source": [
    "df[\"week\"] = df[\"date\"].dt.to_period(\"W\")\n",
    "sumclass = df.groupby(\"week\")[\"revenue\"].sum().reset_index()\n",
    "\n",
    "fig, ax = plt.subplots()\n",
    "ax.plot(sumclass[\"week\"].astype(str), sumclass[\"revenue\"], marker='o')  # Linjegraf förkortning = plot och \"o\" visar varje datapunkt\n",
    "ax.set_title(\"Intäkt per vecka\")\n",
    "ax.set_xlabel(\"Vecka\")\n",
    "ax.set_ylabel(\"Intäkt\")\n",
    "ax.grid(True)\n",
    "\n",
    "plt.setp(ax.get_xticklabels(), rotation=90) \n",
    "plt.tight_layout()\n",
    "plt.show()"
   ]
  },
  {
   "cell_type": "markdown",
   "id": "e64f6a76",
   "metadata": {},
   "source": [
    "## Rekomendationer när det gäller intäkter per månad/vecka:\n",
    "\n",
    "- Tänk på en stark marknadsföring under januari och maj. Dessa månader visar redan höga intäkter och har potential att generera ännu större omsättning.\n",
    "\n",
    "- Fundera över åtgärder för att motverka nedgången i mars, (kanske kampanjer eller rabatter) för att jämna ut intäktsnivåerna. \n",
    "\n",
    "- Fortsätt analysera och jobba med veckoresultaten för att få fram och identifera återkommande veckor med toppar/dalar och anpassa bemanning och lager därefter för maximal effektivitet och besparing. "
   ]
  }
 ],
 "metadata": {
  "kernelspec": {
   "display_name": "Python 3",
   "language": "python",
   "name": "python3"
  },
  "language_info": {
   "codemirror_mode": {
    "name": "ipython",
    "version": 3
   },
   "file_extension": ".py",
   "mimetype": "text/x-python",
   "name": "python",
   "nbconvert_exporter": "python",
   "pygments_lexer": "ipython3",
   "version": "3.13.7"
  }
 },
 "nbformat": 4,
 "nbformat_minor": 5
}

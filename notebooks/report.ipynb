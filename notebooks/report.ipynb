{
 "cells": [
  {
   "cell_type": "code",
   "execution_count": null,
   "id": "23dcd366",
   "metadata": {},
   "outputs": [],
   "source": [
    "import os\n",
    "import csv\n",
    "import numpy as np \n",
    "import pandas as pd \n",
    "\n",
    "\n",
    "with open(\"ecommerce_sales.csv\", \"r\", encoding=\"utf-8\") as file:\n",
    "    reader = csv.reader(file)  \n",
    "\n",
    "df = pd.read_csv(\"ecommerce_sales.csv\")  \n",
    "\n",
    "\n",
    "print(\"Dublettrader:\", df.duplicated().sum()) # undersöker om det finns några dublettrader i filen\n",
    "print(df.isna().sum()) #undersöker om det finns några Null-värden i filen"
   ]
  },
  {
   "cell_type": "code",
   "execution_count": null,
   "id": "e0a6d7f1",
   "metadata": {},
   "outputs": [],
   "source": [
    "# tar ut försäljning per stad, högst försäljning i topp\n",
    "\n",
    "revenue_per_city = df.groupby(\"city\")[\"revenue\"].sum()\n",
    "revenue_per_city = revenue_per_city.sort_values(ascending=False)\n",
    "\n",
    "print(revenue_per_city)"
   ]
  },
  {
   "cell_type": "code",
   "execution_count": null,
   "id": "0bd49523",
   "metadata": {},
   "outputs": [],
   "source": [
    "# tar ut de 3 produkterna med högst försäljningsvärde\n",
    "\n",
    "top_3 = df.groupby(\"category\")[\"revenue\"].sum()\n",
    "top_3 = top_3.sort_values(ascending=False).head(3)\n",
    "print(top_3)"
   ]
  }
 ],
 "metadata": {
  "kernelspec": {
   "display_name": ".venv",
   "language": "python",
   "name": "python3"
  },
  "language_info": {
   "codemirror_mode": {
    "name": "ipython",
    "version": 3
   },
   "file_extension": ".py",
   "mimetype": "text/x-python",
   "name": "python",
   "nbconvert_exporter": "python",
   "pygments_lexer": "ipython3",
   "version": "3.13.7"
  }
 },
 "nbformat": 4,
 "nbformat_minor": 5
}
